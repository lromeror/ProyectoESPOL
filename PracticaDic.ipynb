{
 "cells": [
  {
   "cell_type": "code",
   "execution_count": 1,
   "id": "6f4c8733",
   "metadata": {},
   "outputs": [],
   "source": [
    "import pandas as pd"
   ]
  },
  {
   "cell_type": "code",
   "execution_count": 10,
   "id": "afbb36ce",
   "metadata": {},
   "outputs": [],
   "source": [
    "data={\n",
    "    \"carros\":['audi','bmw','toyota','Ford','Mercedes Benz'],\n",
    "    'GiganteInformaticos':['Google','Microsoft','Amazon','FireFox','Apple'],\n",
    "    'MarcasElectro':['LG','Mabe','Hp','Cannon','SMC'],\n",
    "    'Universidades':['Espol','Harvard','Cambridge','Oxford','MIT']\n",
    "}"
   ]
  },
  {
   "cell_type": "code",
   "execution_count": 11,
   "id": "2181fd8c",
   "metadata": {},
   "outputs": [
    {
     "data": {
      "text/html": [
       "<div>\n",
       "<style scoped>\n",
       "    .dataframe tbody tr th:only-of-type {\n",
       "        vertical-align: middle;\n",
       "    }\n",
       "\n",
       "    .dataframe tbody tr th {\n",
       "        vertical-align: top;\n",
       "    }\n",
       "\n",
       "    .dataframe thead th {\n",
       "        text-align: right;\n",
       "    }\n",
       "</style>\n",
       "<table border=\"1\" class=\"dataframe\">\n",
       "  <thead>\n",
       "    <tr style=\"text-align: right;\">\n",
       "      <th></th>\n",
       "      <th>carros</th>\n",
       "      <th>GiganteInformaticos</th>\n",
       "      <th>MarcasElectro</th>\n",
       "      <th>Universidades</th>\n",
       "    </tr>\n",
       "  </thead>\n",
       "  <tbody>\n",
       "    <tr>\n",
       "      <th>0</th>\n",
       "      <td>audi</td>\n",
       "      <td>Google</td>\n",
       "      <td>LG</td>\n",
       "      <td>Espol</td>\n",
       "    </tr>\n",
       "    <tr>\n",
       "      <th>1</th>\n",
       "      <td>bmw</td>\n",
       "      <td>Microsoft</td>\n",
       "      <td>Mabe</td>\n",
       "      <td>Harvard</td>\n",
       "    </tr>\n",
       "    <tr>\n",
       "      <th>2</th>\n",
       "      <td>toyota</td>\n",
       "      <td>Amazon</td>\n",
       "      <td>Hp</td>\n",
       "      <td>Cambridge</td>\n",
       "    </tr>\n",
       "    <tr>\n",
       "      <th>3</th>\n",
       "      <td>Ford</td>\n",
       "      <td>FireFox</td>\n",
       "      <td>Cannon</td>\n",
       "      <td>Oxford</td>\n",
       "    </tr>\n",
       "    <tr>\n",
       "      <th>4</th>\n",
       "      <td>Mercedes Benz</td>\n",
       "      <td>Apple</td>\n",
       "      <td>SMC</td>\n",
       "      <td>MIT</td>\n",
       "    </tr>\n",
       "  </tbody>\n",
       "</table>\n",
       "</div>"
      ],
      "text/plain": [
       "          carros GiganteInformaticos MarcasElectro Universidades\n",
       "0           audi              Google            LG         Espol\n",
       "1            bmw           Microsoft          Mabe       Harvard\n",
       "2         toyota              Amazon            Hp     Cambridge\n",
       "3           Ford             FireFox        Cannon        Oxford\n",
       "4  Mercedes Benz               Apple           SMC           MIT"
      ]
     },
     "execution_count": 11,
     "metadata": {},
     "output_type": "execute_result"
    }
   ],
   "source": [
    "data1=pd.DataFrame(data)\n",
    "data1"
   ]
  }
 ],
 "metadata": {
  "kernelspec": {
   "display_name": "Python 3 (ipykernel)",
   "language": "python",
   "name": "python3"
  },
  "language_info": {
   "codemirror_mode": {
    "name": "ipython",
    "version": 3
   },
   "file_extension": ".py",
   "mimetype": "text/x-python",
   "name": "python",
   "nbconvert_exporter": "python",
   "pygments_lexer": "ipython3",
   "version": "3.11.1"
  }
 },
 "nbformat": 4,
 "nbformat_minor": 5
}
